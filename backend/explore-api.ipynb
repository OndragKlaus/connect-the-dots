{
 "cells": [
  {
   "cell_type": "code",
   "execution_count": null,
   "metadata": {},
   "outputs": [],
   "source": [
    "from xml.dom import minidom\n",
    "from typing import Dict\n",
    "import sqlite3\n",
    "from pathlib import Path\n",
    "\n",
    "import requests\n",
    "from IPython.display import display, HTML\n",
    "from bs4 import BeautifulSoup\n",
    "\n",
    "from secrets.config import config"
   ]
  },
  {
   "cell_type": "code",
   "execution_count": null,
   "metadata": {},
   "outputs": [],
   "source": [
    "def get_url(url: str) -> str:\n",
    "    try:\n",
    "        response = requests.get(url)\n",
    "        if response.ok:\n",
    "            return response.content.decode('utf-8')\n",
    "        else:\n",
    "            raise Exception('invalid response code', response)\n",
    "    except Exception as e:\n",
    "        raise e\n",
    "\n",
    "def get_token(login_url: str='https://commerce.reuters.com/rmd/rest/xml/login?username={username}&password={password}',\n",
    "              config: Dict[str, str] = None) -> str:\n",
    "    login_url = login_url.format(username=config['user'], password=config['password'])\n",
    "    content = get_url(login_url)\n",
    "    soup = BeautifulSoup(content, 'lxml')\n",
    "    return soup.find('authtoken').text\n",
    "\n",
    "auth_token = get_token(config=config)"
   ]
  },
  {
   "cell_type": "code",
   "execution_count": null,
   "metadata": {
    "scrolled": true
   },
   "outputs": [],
   "source": [
    "channels_raw = get_url(f'https://rmb.reuters.com/rmd/rest/xml/channels?&token={auth_token}')\n",
    "channels = minidom.parseString(channels_raw)\n",
    "print(channels.toprettyxml())"
   ]
  },
  {
   "cell_type": "code",
   "execution_count": null,
   "metadata": {},
   "outputs": [],
   "source": [
    "soup = BeautifulSoup(channels_raw, 'lxml')\n",
    "channels = [(ci.find('alias').text, ci.find('description').text)\n",
    "            for ci in soup.find_all('channelinformation')\n",
    "            if ci.find('category').get('id') == 'OLR']\n",
    "channels[:5]"
   ]
  },
  {
   "cell_type": "code",
   "execution_count": null,
   "metadata": {
    "scrolled": true
   },
   "outputs": [],
   "source": [
    "channel = channels[0][0]\n",
    "items_raw = get_url(f'https://rmb.reuters.com/rmd/rest/xml/items?channel={channel}&mediaType=T&token={auth_token}')\n",
    "items = minidom.parseString(items_raw)\n",
    "print(items.toprettyxml())"
   ]
  },
  {
   "cell_type": "code",
   "execution_count": null,
   "metadata": {
    "scrolled": true
   },
   "outputs": [],
   "source": [
    "soup = BeautifulSoup(items_raw, 'lxml')\n",
    "items = [(ci.find('id').text, ci.find('headline').text,\n",
    "          ci.find('guid').text, (ci.find('version').text))\n",
    "            for ci in soup.find_all('result')]\n",
    "\n",
    "# filter multiple versions, only take newest\n",
    "tmp = {}\n",
    "for item in items:\n",
    "    guid = item[2]\n",
    "    if guid not in tmp:\n",
    "        tmp[guid] = item[3]\n",
    "    else:\n",
    "        version = tmp[guid]\n",
    "        if version < item[3]:\n",
    "            tmp[guid] = item[3]\n",
    "\n",
    "items = [(item[0], item[1])\n",
    "         for item in items\n",
    "         if tmp[item[2]] == item[3]]\n",
    "\n",
    "items[:5]"
   ]
  },
  {
   "cell_type": "code",
   "execution_count": null,
   "metadata": {
    "scrolled": true
   },
   "outputs": [],
   "source": [
    "item_id = items[0][0]\n",
    "item_raw = get_url(f'https://rmb.reuters.com/rmd/rest/xml/item?id={item_id}&token={auth_token}')\n",
    "item = minidom.parseString(item_raw)\n",
    "print(item.toprettyxml())"
   ]
  },
  {
   "cell_type": "code",
   "execution_count": null,
   "metadata": {
    "scrolled": true
   },
   "outputs": [],
   "source": [
    "soup = BeautifulSoup(item_raw, 'lxml')\n",
    "content = [c.text for c in soup.find('inlinexml').find_all('p')]\n",
    "content[:5]"
   ]
  },
  {
   "cell_type": "code",
   "execution_count": null,
   "metadata": {},
   "outputs": [],
   "source": []
  },
  {
   "cell_type": "code",
   "execution_count": null,
   "metadata": {
    "scrolled": true
   },
   "outputs": [],
   "source": [
    "path_data = Path('sql')\n",
    "path_data.mkdir(exist_ok=True)\n",
    "\n",
    "db_file = path_data / 'db.sqlite'\n",
    "conn = sqlite3.connect(str(db_file))"
   ]
  },
  {
   "cell_type": "code",
   "execution_count": null,
   "metadata": {},
   "outputs": [],
   "source": []
  },
  {
   "cell_type": "code",
   "execution_count": null,
   "metadata": {},
   "outputs": [],
   "source": []
  }
 ],
 "metadata": {
  "kernelspec": {
   "display_name": "Python 2",
   "language": "python",
   "name": "python2"
  },
  "language_info": {
   "codemirror_mode": {
    "name": "ipython",
    "version": 3
   },
   "file_extension": ".py",
   "mimetype": "text/x-python",
   "name": "python",
   "nbconvert_exporter": "python",
   "pygments_lexer": "ipython3",
   "version": "3.6.1"
  }
 },
 "nbformat": 4,
 "nbformat_minor": 1
}
