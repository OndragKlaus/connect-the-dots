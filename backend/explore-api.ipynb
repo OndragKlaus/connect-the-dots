{
 "cells": [
  {
   "cell_type": "code",
   "execution_count": null,
   "metadata": {},
   "outputs": [],
   "source": [
    "from xml.etree import ElementTree\n",
    "from xml.dom import minidom\n",
    "from typing import Dict\n",
    "\n",
    "import requests\n",
    "from IPython.display import display, HTML\n",
    "\n",
    "from secrets.config import config"
   ]
  },
  {
   "cell_type": "code",
   "execution_count": null,
   "metadata": {},
   "outputs": [],
   "source": [
    "def get_url(url: str) -> str:\n",
    "    try:\n",
    "        response = requests.get(url)\n",
    "        if response.ok:\n",
    "            return response.content.decode('utf-8')\n",
    "        else:\n",
    "            raise Exception('invalid response code', response)\n",
    "    except Exception as e:\n",
    "        raise e\n",
    "\n",
    "def get_token(login_url: str='https://commerce.reuters.com/rmd/rest/xml/login?username={username}&password={password}',\n",
    "              config: Dict[str, str] = None) -> str:\n",
    "    login_url = login_url.format(username=config['user'], password=config['password'])\n",
    "    content = get_url(login_url)\n",
    "    root = ElementTree.fromstring(content)\n",
    "    return root.text\n",
    "\n",
    "auth_token = get_token(config=config)"
   ]
  },
  {
   "cell_type": "code",
   "execution_count": null,
   "metadata": {
    "scrolled": false
   },
   "outputs": [],
   "source": [
    "channels_raw = get_url(f'https://rmb.reuters.com/rmd/rest/xml/channels?&token={auth_token}')"
   ]
  },
  {
   "cell_type": "code",
   "execution_count": null,
   "metadata": {
    "scrolled": true
   },
   "outputs": [],
   "source": [
    "channels = minidom.parseString(channels_raw)\n",
    "print(channels.toprettyxml())"
   ]
  },
  {
   "cell_type": "code",
   "execution_count": null,
   "metadata": {
    "scrolled": true
   },
   "outputs": [],
   "source": [
    "root = ElementTree.fromstring(channels_raw)\n",
    "for ci in root.findall('channelInformation'):\n",
    "    category = ci.find('category')\n",
    "    print(category.get('id'))"
   ]
  },
  {
   "cell_type": "code",
   "execution_count": null,
   "metadata": {
    "scrolled": true
   },
   "outputs": [],
   "source": [
    "items_raw = get_url(f'https://rmb.reuters.com/rmd/rest/xml/items?channel=BEQ259&mediaType=T&token={auth_token}')\n",
    "items = minidom.parseString(items_raw)\n",
    "print(items.toprettyxml())"
   ]
  },
  {
   "cell_type": "code",
   "execution_count": null,
   "metadata": {
    "scrolled": true
   },
   "outputs": [],
   "source": [
    "item_id = 'tag:reuters.com,2017:newsml_KCN1BQ2AV:6'\n",
    "item_raw = get_url(f'https://rmb.reuters.com/rmd/rest/xml/item?id={item_id}&token={auth_token}')\n",
    "item = minidom.parseString(item_raw)\n",
    "print(item.toprettyxml())"
   ]
  },
  {
   "cell_type": "code",
   "execution_count": null,
   "metadata": {
    "scrolled": true
   },
   "outputs": [],
   "source": [
    "display(HTML(item_raw))"
   ]
  },
  {
   "cell_type": "code",
   "execution_count": null,
   "metadata": {},
   "outputs": [],
   "source": [
    "from bs4 import BeautifulSoup\n",
    "soup = BeautifulSoup(item_raw, 'lxml')\n",
    "soup.find('title').text"
   ]
  },
  {
   "cell_type": "code",
   "execution_count": null,
   "metadata": {
    "scrolled": true
   },
   "outputs": [],
   "source": [
    "[c.text for c in soup.find('inlinexml').find_all('p')]"
   ]
  },
  {
   "cell_type": "code",
   "execution_count": null,
   "metadata": {},
   "outputs": [],
   "source": []
  },
  {
   "cell_type": "code",
   "execution_count": null,
   "metadata": {},
   "outputs": [],
   "source": []
  }
 ],
 "metadata": {
  "kernelspec": {
   "display_name": "Python 2",
   "language": "python",
   "name": "python2"
  },
  "language_info": {
   "codemirror_mode": {
    "name": "ipython",
    "version": 3
   },
   "file_extension": ".py",
   "mimetype": "text/x-python",
   "name": "python",
   "nbconvert_exporter": "python",
   "pygments_lexer": "ipython3",
   "version": "3.6.1"
  }
 },
 "nbformat": 4,
 "nbformat_minor": 1
}
