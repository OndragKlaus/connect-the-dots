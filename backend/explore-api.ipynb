{
 "cells": [
  {
   "cell_type": "code",
   "execution_count": null,
   "metadata": {},
   "outputs": [],
   "source": [
    "from xml.dom import minidom\n",
    "from typing import Dict, List, Tuple\n",
    "import sqlite3\n",
    "from pathlib import Path\n",
    "\n",
    "import requests\n",
    "from IPython.display import display, HTML\n",
    "from bs4 import BeautifulSoup\n",
    "\n",
    "from secrets.config import config"
   ]
  },
  {
   "cell_type": "code",
   "execution_count": null,
   "metadata": {},
   "outputs": [],
   "source": [
    "debug = False"
   ]
  },
  {
   "cell_type": "code",
   "execution_count": null,
   "metadata": {},
   "outputs": [],
   "source": [
    "def pretty_print_xml(xml: str) -> None:\n",
    "    xml = minidom.parseString(xml)\n",
    "    print(xml.toprettyxml())"
   ]
  },
  {
   "cell_type": "code",
   "execution_count": null,
   "metadata": {},
   "outputs": [],
   "source": [
    "def get_url(url: str) -> str:\n",
    "    try:\n",
    "        response = requests.get(url)\n",
    "        if response.ok:\n",
    "            return response.content.decode('utf-8')\n",
    "        else:\n",
    "            raise Exception('invalid response code', response)\n",
    "    except Exception as e:\n",
    "        raise e\n",
    "\n",
    "def get_token(url: str='https://commerce.reuters.com/rmd/rest/xml/login?username={username}&password={password}',\n",
    "              config: Dict[str, str] = None) -> str:\n",
    "    url = url.format(username=config['user'], password=config['password'])\n",
    "    content = get_url(url)\n",
    "    soup = BeautifulSoup(content, 'lxml')\n",
    "    return soup.find('authtoken').text\n",
    "\n",
    "token = get_token(config=config)"
   ]
  },
  {
   "cell_type": "code",
   "execution_count": null,
   "metadata": {
    "scrolled": true
   },
   "outputs": [],
   "source": [
    "def get_channels(token: str,\n",
    "                 url: str='https://rmb.reuters.com/rmd/rest/xml/channels?&token={token}'\n",
    "                ) -> List[Tuple[str, str]]:\n",
    "    url = url.format(token=token)\n",
    "    channels_raw = get_url(url)\n",
    "    \n",
    "    if debug:\n",
    "        pretty_print_xml(channels_raw)\n",
    "        \n",
    "    soup = BeautifulSoup(channels_raw, 'lxml')\n",
    "    channels = [(ci.find('alias').text, ci.find('description').text)\n",
    "                for ci in soup.find_all('channelinformation')\n",
    "                if ci.find('category').get('id') == 'OLR']\n",
    "    return channels\n",
    "\n",
    "channels = get_channels(token)\n",
    "channels[:5]"
   ]
  },
  {
   "cell_type": "code",
   "execution_count": null,
   "metadata": {},
   "outputs": [],
   "source": [
    "def _filter_versions(items: List) -> List:\n",
    "    tmp = {}\n",
    "    for item in items:\n",
    "        guid = item[2]\n",
    "        if guid not in tmp:\n",
    "            tmp[guid] = item[3]\n",
    "        else:\n",
    "            version = tmp[guid]\n",
    "            if version < item[3]:\n",
    "                tmp[guid] = item[3]\n",
    "\n",
    "    items = [(item[0], item[1])\n",
    "             for item in items\n",
    "             if tmp[item[2]] == item[3]]\n",
    "    return items\n",
    "\n",
    "def get_items(token: str, channel_id: str, limit: int=100, max_age: str='7D', \n",
    "              media_type: str='T', language: str='en',\n",
    "              url: str='https://rmb.reuters.com/rmd/rest/xml/items?channel={channel_id}&limit={limit}&maxAge={max_age}&mediaType={media_type}&language={language}&token={token}'\n",
    "             ) -> List:\n",
    "    url = url.format(token=token, channel_id=channel_id, limit=str(limit), max_age=max_age, \n",
    "                     media_type=media_type, language=language)\n",
    "    items_raw = get_url(url)\n",
    "\n",
    "    if debug:\n",
    "        pretty_print_xml(items_raw)\n",
    "\n",
    "    soup = BeautifulSoup(items_raw, 'lxml')\n",
    "    items = [(ci.find('id').text, ci.find('headline').text,\n",
    "              ci.find('guid').text, (ci.find('version').text))\n",
    "                for ci in soup.find_all('result')]\n",
    "    # print(f'items received: {len(items)}')\n",
    "    items = _filter_versions(items)\n",
    "    return items\n",
    "\n",
    "\n",
    "items = get_items(token, channels[0][0])\n",
    "print(f'items filtered: {len(items)}')\n",
    "items[:5]"
   ]
  },
  {
   "cell_type": "code",
   "execution_count": null,
   "metadata": {
    "scrolled": true
   },
   "outputs": [],
   "source": [
    "item_id = items[0][0]\n",
    "\n",
    "def get_item(token: str, item_id: str,\n",
    "              url: str='https://rmb.reuters.com/rmd/rest/xml/item?id={item_id}&token={token}'\n",
    "             ) -> List:\n",
    "    url = url.format(token=token, item_id=item_id)\n",
    "    item_raw = get_url(url)\n",
    "\n",
    "    if debug:\n",
    "        pretty_print_xml(item_raw)\n",
    "\n",
    "    soup = BeautifulSoup(item_raw, 'lxml')\n",
    "    content = [c.text for c in soup.find('inlinexml').find_all('p')]\n",
    "    return content\n",
    "\n",
    "content = get_item(token, items[0][0])\n",
    "content[:5]"
   ]
  },
  {
   "cell_type": "code",
   "execution_count": null,
   "metadata": {
    "scrolled": true
   },
   "outputs": [],
   "source": []
  },
  {
   "cell_type": "code",
   "execution_count": null,
   "metadata": {
    "scrolled": true
   },
   "outputs": [],
   "source": [
    "path_data = Path('sql')\n",
    "path_data.mkdir(exist_ok=True)\n",
    "\n",
    "db_file = path_data / 'db.sqlite'\n",
    "create_tables_file = path_data / 'create_tables.sql'\n",
    "with sqlite3.connect(str(db_file)) as con:\n",
    "    with open(create_tables_file, 'r') as f:\n",
    "        script = f.read()\n",
    "    con.executescript(script)\n",
    "    con.commit()\n",
    "    cur = con.cursor()\n",
    "    cur.execute(\"select count(*) from article\")\n",
    "    print(cur.fetchone()[0])"
   ]
  },
  {
   "cell_type": "code",
   "execution_count": null,
   "metadata": {
    "scrolled": true
   },
   "outputs": [],
   "source": []
  },
  {
   "cell_type": "code",
   "execution_count": null,
   "metadata": {},
   "outputs": [],
   "source": []
  },
  {
   "cell_type": "code",
   "execution_count": null,
   "metadata": {
    "scrolled": true
   },
   "outputs": [],
   "source": []
  },
  {
   "cell_type": "code",
   "execution_count": null,
   "metadata": {},
   "outputs": [],
   "source": []
  },
  {
   "cell_type": "code",
   "execution_count": null,
   "metadata": {},
   "outputs": [],
   "source": []
  }
 ],
 "metadata": {
  "kernelspec": {
   "display_name": "Python 2",
   "language": "python",
   "name": "python2"
  },
  "language_info": {
   "codemirror_mode": {
    "name": "ipython",
    "version": 3
   },
   "file_extension": ".py",
   "mimetype": "text/x-python",
   "name": "python",
   "nbconvert_exporter": "python",
   "pygments_lexer": "ipython3",
   "version": "3.6.1"
  }
 },
 "nbformat": 4,
 "nbformat_minor": 1
}
