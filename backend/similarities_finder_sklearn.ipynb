{
 "cells": [
  {
   "cell_type": "code",
   "execution_count": 1,
   "metadata": {},
   "outputs": [],
   "source": [
    "from pathlib import Path\n",
    "import sqlite3\n",
    "from collections import namedtuple\n",
    "\n",
    "import numpy as np\n",
    "import sklearn\n",
    "from sklearn.feature_extraction.text import TfidfVectorizer"
   ]
  },
  {
   "cell_type": "code",
   "execution_count": 2,
   "metadata": {},
   "outputs": [
    {
     "name": "stdout",
     "output_type": "stream",
     "text": [
      "Article(article_id=1, source_id=1, headline='Boris throws down the gauntlet to May over Brexit', excerpt=\"Downing Street is united behind Boris Johnson's pledge to give £350 million a week to the NHS after Brexit amid speculation he is launching a leadership bid, sources claim.\", full_text='Downing Street is united behind Boris Johnson\\'s pledge to give £350 million a week to the NHS amid speculation he is launching a leadership bid, sources claimed this morning.\\nNumber 10 reportedly confirmed the government\\'s knowledge of the foreign secretary\\'s ambitions after he published a 4,000-word personal manifesto for Brexit ahead of Theresa May\\'s speech in Florence next week.\\nThe government source said: \\'Boris\\' views are well known - as you\\'ll see in the PM\\'s speech next week the government is united.\\'\\xa0\\nMr Johnson threw down the gauntlet to the prime minister\\xa0last night warning her against giving in to Remainers in the Cabinet.\\nIn an extraordinary intervention, that will reignite speculation about his leadership ambitions, the Foreign Secretary published an essay setting out his personal manifesto for\\xa0Brexit.\\nThe move comes just days before Mrs May is due to make a pivotal speech on the issue and will be seen as an attempt to box her in.\\nToday Politics Home editor Kevin Schofield Tweeted: \\'No 10 source on BoJo intervention: \"Boris\\' views are well known – as you\\'ll see in the PM\\'s speech next week the government is united.\"\\'\\xa0\\nIt was followed by the foreign secretary saying he is \\'looking forward\\' to the prime minister\\'s speech and that the party is \\'behind Theresa for a glorious Brexit\\', according to Sky News.\\xa0\\nMr Johnson, who is angry at claims he lied during the referendum campaign, says the UK will claw back control of £350 million a week after leaving the EU, which could be spent on the NHS.\\nAnd, in an ominous move, he flatly rejects calls for Britain to pay billions for access to the single market during any transition period after Brexit – an idea being considered by Mrs May for inclusion in her speech next week.\\nSome ministers, including the Chancellor Philip Hammond, believe the payments could break the deadlock in the Brexit negotiations and kickstart talks on a new trade deal.\\nBut Mr Johnson writes: ‘We would not expect to pay for access to their markets any more than they would expect to pay for access to our.’\\nAnd he says that ongoing membership of the single market and customs union would make a ‘complete mockery’ of the referendum.\\nDowning Street had banned Mr Johnson from making a speech on Brexit until after Mrs May had delivered hers.\\nHis essay, which was published in the Daily Telegraph, was not cleared with No 10 and was sent to the PM’s office only shortly before it was published.\\nIt comes amid mounting concern in Downing Street that Mr Johnson could resign if Mrs May tries to go soft on Brexit.\\nThe Foreign Secretary is said to be wounded by claims that he lied during last year’s referendum campaign and frustrated at continued attempts to sideline him.\\nHe is also said to have been angered by briefings this month suggesting he would be demoted in the next Cabinet reshuffle.\\nBut a\\xa0senior Tory MP questioned the foreign secretary\\'s intervention.\\nThey told MailOnline Mr Johnson would face the wrath of the powerful 1922 committee if he tried to destabilise Mrs May.\\n\\'He should be aware the \\'22 will support any moves the PM makes to enforce discipline,\\' they told MailOnline.\\n\\'I can\\'t work out what he is trying to achieve with this. There is no big appetite for Boris on our benches.\\n\\'He hasn\\'t done much with the role of Foreign Secretary. He is still acting like a journalist rather than a senior diplomat.\\'\\nIn July Mr Johnson was forced to deny rumours sweeping Westminster that he was on the verge of quitting.\\nOne Tory source said this week that he was ‘so low’ he had been put on ‘resignation watch’ by No 10.\\nThe resignation of Mr Johnson would destabilise Mrs May’s fragile government and set off a chain of events that could force her from office.\\nOne friend insisted he was not considering quitting, but hinted at tensions with No 10.\\n‘I think he is clear that if he’s pushed he will push back on policy and on (cabinet) jobs. But it is all about staying in government, not walking away,’ the friend said.\\nMr Johnson uses his article to set out an upbeat vision for a ‘glorious’ post-Brexit future as a low-tax, low regulation economy freed from the shackles of Brussels.\\nHe insists that Britain can be ‘the greatest country on earth’ and rounds on so-called Remoaners ‘who think we are going to bottle it’.\\nHe also accuses Labour of ‘chickening out’ of Brexit after voting against the EU Withdrawal Bill and backing single market membership in the short term.\\nOn his controversial £350 million a week claim, he writes: ‘Once we have settled our accounts, we will take back control of roughly £350m per week.\\n“It would be a fine thing, as many of us have pointed out, if a lot of that money went on the NHS, provided we use that cash injection to modernise and make the most of new technology.”\\nHe says that opponents, including the ‘the government, the BBC, Barack Obama, the Archbishop of Canterbury, the CBI’ tried to prevent Brexit and are now ‘woefully underestimating this country’.\\nMr Johnson calls for Britain to ‘keep environmental and social protections that are fair and wise’, but saysEU red tape costing anything between 4 and 7 per cent of GDP should be ditched.\\nMr Johnson, who has clashed repeatedly with the Chancellor, says Brexit should be used as an opportunity ‘reform our tax system’.\\n‘Outside the EU there are obvious opportunities… in the setting of indirect taxation,’ he writes. ‘At the stroke of a pen, the Chancellor will be able to cut VAT on tampons; often demanded by parliament but – absurdly – legally impossible to deliver.’\\nDowning Street last night attempted to play down the row.\\nA source said: ‘Boris’s views on Brexit are well known. As you’ll see in the PM’s speech next week, the Governmenbt is united in our determination to make the most of the opportiunities for a successful future.\\xa0', image_url='http://i.dailymail.co.uk/i/pix/2017/09/15/23/445410E600000578-0-image-a-6_1505514465535.jpg', article_url='http://www.dailymail.co.uk/news/article-4889654/Boris-throws-gauntlet-Brexit.html')\n"
     ]
    }
   ],
   "source": [
    "Article = namedtuple('Article', ['article_id', 'source_id', 'headline', 'excerpt', 'full_text', 'image_url', 'article_url'])\n",
    "\n",
    "path_data = Path('sql')\n",
    "path_data.mkdir(exist_ok=True)\n",
    "db_file = path_data / 'db.sqlite'\n",
    "with sqlite3.connect(str(db_file)) as con:\n",
    "    cur = con.cursor()\n",
    "    cur.execute('select article_id, source_id, headline, excerpt, full_text, image_url, article_url from article')\n",
    "    articles = cur.fetchall()\n",
    "    articles = [Article(*a) for a in articles]\n",
    "    print(articles[0])"
   ]
  },
  {
   "cell_type": "code",
   "execution_count": 3,
   "metadata": {},
   "outputs": [
    {
     "data": {
      "text/plain": [
       "array([ 1.        ,  0.23715057,  0.4271562 ,  0.48693993,  0.214574  ,\n",
       "        0.23120266,  0.3273588 ,  0.38856303,  0.24804797,  0.34432177,\n",
       "        0.37117256,  0.3788596 ,  0.71673963,  0.26611566,  0.25907154,\n",
       "        0.26826971,  0.27121292,  0.17211084,  0.23508159,  0.27572193,\n",
       "        0.23616226,  0.22149308,  0.25428791,  0.33868341,  0.22623896,\n",
       "        0.22276032,  0.18370107,  0.20475804,  0.22844708,  0.21129283,\n",
       "        0.36714056,  0.35443661,  0.34877499,  0.39361897,  0.23373107,\n",
       "        0.62257276,  0.32282954,  0.41299974,  0.24190328,  0.2831942 ,\n",
       "        0.08338115,  0.27042393,  0.22076406,  0.29011022,  0.22383537,\n",
       "        0.19864927,  0.2379626 ,  0.22660397,  0.28525043,  0.33749335,\n",
       "        0.38256757,  0.3471241 ,  0.23588415,  0.        ,  0.44399643,\n",
       "        0.20917786,  0.3096101 ,  0.31745805,  0.15793594,  0.30392421,\n",
       "        0.23983503,  0.20510225,  0.25222782,  0.22232153,  0.30276103,\n",
       "        0.10881813,  0.30440694,  0.33862037,  0.31487419,  0.33158009,\n",
       "        0.24536773,  0.25672872,  0.36388226,  0.19411849,  0.38005066,\n",
       "        0.33722502,  0.21275741,  0.32792832,  0.26535789,  0.20881693,\n",
       "        0.20487457,  0.17180324,  0.26769207,  0.19357754,  0.20914836,\n",
       "        0.49840682,  0.10886251,  0.23010395,  0.43662129,  0.33098923,\n",
       "        0.19196348,  0.22387986,  0.33413563,  0.21831758,  0.23326036,\n",
       "        0.38410408,  0.31802202,  0.62520148,  0.32305065,  0.43194086,\n",
       "        0.33752844,  0.27679981,  0.24651082,  0.24547547,  0.37686378,\n",
       "        0.22483375,  0.50315165,  0.27399362,  0.24313108,  0.23780261,\n",
       "        0.26865199,  0.25413447,  0.32424424,  0.32357899,  0.20371342,\n",
       "        0.21830554,  0.22194477,  0.21603866,  0.32734618,  0.27421024,\n",
       "        0.54769631,  0.67816876,  0.25206422,  0.42524195,  0.22929467,\n",
       "        0.15704965,  0.17329274,  0.11490691,  0.19271221])"
      ]
     },
     "execution_count": 3,
     "metadata": {},
     "output_type": "execute_result"
    }
   ],
   "source": [
    "articles_contents = [a.full_text for a in articles]\n",
    "tfidf = TfidfVectorizer().fit_transform(articles_contents)\n",
    "pairwise_similarity = tfidf * tfidf.T\n",
    "pairwise_similarity.A[0]"
   ]
  },
  {
   "cell_type": "code",
   "execution_count": 4,
   "metadata": {},
   "outputs": [
    {
     "name": "stdout",
     "output_type": "stream",
     "text": [
      "0.716739626591\n",
      "0.622572762128\n",
      "0.32282954171\n",
      "0.716739626591\n",
      "0.7324392116\n",
      "0.364319882804\n",
      "0.622572762128\n",
      "0.7324392116\n",
      "0.326540979509\n"
     ]
    }
   ],
   "source": [
    "print(pairwise_similarity.A[0][12])\n",
    "print(pairwise_similarity.A[0][35])\n",
    "print(pairwise_similarity.A[0][36])\n",
    "print(pairwise_similarity.A[12][0])\n",
    "print(pairwise_similarity.A[12][35])\n",
    "print(pairwise_similarity.A[12][36])\n",
    "print(pairwise_similarity.A[35][0])\n",
    "print(pairwise_similarity.A[35][12])\n",
    "print(pairwise_similarity.A[35][36])"
   ]
  },
  {
   "cell_type": "code",
   "execution_count": 5,
   "metadata": {},
   "outputs": [],
   "source": [
    "ensure_pairs_exist_sql = \"\"\"\n",
    "INSERT INTO similarities (article_id_1, article_id_2, permid, sklearn_headline, sklearn_text)\n",
    "  SELECT\n",
    "    a1.article_id,\n",
    "    a2.article_id,\n",
    "    0,\n",
    "    0,\n",
    "    0\n",
    "  FROM article a1\n",
    "    INNER JOIN article a2\n",
    "      ON a1.article_id > a2.article_id\n",
    "  WHERE NOT EXISTS(\n",
    "      SELECT *\n",
    "      FROM similarities s\n",
    "      WHERE s.article_id_1 == a1.article_id\n",
    "            AND s.article_id_2 == a2.article_id\n",
    "  );\n",
    "\"\"\"\n",
    "\n",
    "def clear_table(cur):\n",
    "    cur.execute('DELETE FROM similarities')\n",
    "\n",
    "def update_db(cur, id_1, id_2, value, column):\n",
    "    cur.execute(f'UPDATE similarities SET {column} = ? WHERE article_id_1 = ? AND article_id_2 = ?', \n",
    "                (value, id_1, id_2))\n",
    "\n",
    "def insert_into(column, matrix, clear=False):\n",
    "    with sqlite3.connect(str(db_file)) as con:\n",
    "        cur = con.cursor()\n",
    "\n",
    "        if clear:\n",
    "            clear_table(cur)\n",
    "            con.commit()\n",
    "\n",
    "        cur.execute(ensure_pairs_exist_sql)\n",
    "        con.commit()\n",
    "\n",
    "        [update_db(cur, id_1 + 1, id_2 + 1, value, column) \n",
    "         for (id_1, id_2), value in np.ndenumerate(matrix)\n",
    "         if id_1 > id_2]\n",
    "        con.commit()\n",
    "\n",
    "insert_into('sklearn_text', pairwise_similarity.A, True)"
   ]
  },
  {
   "cell_type": "code",
   "execution_count": null,
   "metadata": {},
   "outputs": [],
   "source": []
  },
  {
   "cell_type": "code",
   "execution_count": 6,
   "metadata": {},
   "outputs": [
    {
     "data": {
      "text/plain": [
       "array([ 1.        ,  0.        ,  0.18694435,  0.02970191,  0.        ,\n",
       "        0.02671833,  0.04679032,  0.0573667 ,  0.        ,  0.05016216,\n",
       "        0.        ,  0.        ,  0.16342996,  0.02622172,  0.02822841,\n",
       "        0.        ,  0.        ,  0.02800688,  0.05094296,  0.        ,\n",
       "        0.        ,  0.        ,  0.        ,  0.        ,  0.        ,\n",
       "        0.        ,  0.08393197,  0.02859344,  0.        ,  0.        ,\n",
       "        0.09117379,  0.0869663 ,  0.        ,  0.        ,  0.        ,\n",
       "        0.28524332,  0.04164032,  0.02051558,  0.        ,  0.0275247 ,\n",
       "        0.        ,  0.02814507,  0.02402709,  0.        ,  0.        ,\n",
       "        0.        ,  0.        ,  0.04788964,  0.02881883,  0.        ,\n",
       "        0.04044454,  0.        ,  0.        ,  0.05136635,  0.07496241,\n",
       "        0.        ,  0.04610664,  0.02890247,  0.        ,  0.02668986,\n",
       "        0.        ,  0.        ,  0.        ,  0.        ,  0.        ,\n",
       "        0.        ,  0.        ,  0.04885834,  0.        ,  0.02686537,\n",
       "        0.        ,  0.        ,  0.03272561,  0.        ,  0.02668761,\n",
       "        0.1182132 ,  0.        ,  0.        ,  0.04802397,  0.        ,\n",
       "        0.        ,  0.        ,  0.        ,  0.        ,  0.04816392,\n",
       "        0.10368256,  0.        ,  0.        ,  0.        ,  0.03067434,\n",
       "        0.        ,  0.        ,  0.02587639,  0.        ,  0.        ,\n",
       "        0.06859146,  0.05068319,  0.20321244,  0.02631604,  0.09275011,\n",
       "        0.        ,  0.        ,  0.        ,  0.04858275,  0.06788191,\n",
       "        0.        ,  0.14353535,  0.10118567,  0.        ,  0.        ,\n",
       "        0.        ,  0.        ,  0.07706563,  0.        ,  0.        ,\n",
       "        0.        ,  0.        ,  0.        ,  0.09813873,  0.14905182,\n",
       "        0.12782441,  0.29455725,  0.        ,  0.02861287,  0.09005349,\n",
       "        0.02588663,  0.        ,  0.        ,  0.        ])"
      ]
     },
     "execution_count": 6,
     "metadata": {},
     "output_type": "execute_result"
    }
   ],
   "source": [
    "articles_hl = [a.headline for a in articles]\n",
    "tfidf = TfidfVectorizer().fit_transform(articles_hl)\n",
    "pairwise_similarity = tfidf * tfidf.T\n",
    "pairwise_similarity.A[0]"
   ]
  },
  {
   "cell_type": "code",
   "execution_count": 7,
   "metadata": {},
   "outputs": [
    {
     "name": "stdout",
     "output_type": "stream",
     "text": [
      "0.163429955153\n",
      "0.285243324365\n",
      "0.0416403215359\n",
      "0.163429955153\n",
      "0.228629149039\n",
      "0.0\n",
      "0.285243324365\n",
      "0.228629149039\n",
      "0.0363462112116\n"
     ]
    }
   ],
   "source": [
    "print(pairwise_similarity.A[0][12])\n",
    "print(pairwise_similarity.A[0][35])\n",
    "print(pairwise_similarity.A[0][36])\n",
    "print(pairwise_similarity.A[12][0])\n",
    "print(pairwise_similarity.A[12][35])\n",
    "print(pairwise_similarity.A[12][36])\n",
    "print(pairwise_similarity.A[35][0])\n",
    "print(pairwise_similarity.A[35][12])\n",
    "print(pairwise_similarity.A[35][36])"
   ]
  },
  {
   "cell_type": "code",
   "execution_count": 8,
   "metadata": {},
   "outputs": [],
   "source": [
    "insert_into('sklearn_headline', pairwise_similarity.A)"
   ]
  },
  {
   "cell_type": "code",
   "execution_count": null,
   "metadata": {},
   "outputs": [],
   "source": []
  },
  {
   "cell_type": "code",
   "execution_count": null,
   "metadata": {},
   "outputs": [],
   "source": []
  },
  {
   "cell_type": "code",
   "execution_count": null,
   "metadata": {
    "scrolled": false
   },
   "outputs": [],
   "source": []
  },
  {
   "cell_type": "code",
   "execution_count": null,
   "metadata": {},
   "outputs": [],
   "source": []
  },
  {
   "cell_type": "code",
   "execution_count": null,
   "metadata": {},
   "outputs": [],
   "source": []
  },
  {
   "cell_type": "code",
   "execution_count": null,
   "metadata": {},
   "outputs": [],
   "source": []
  },
  {
   "cell_type": "code",
   "execution_count": null,
   "metadata": {},
   "outputs": [],
   "source": []
  },
  {
   "cell_type": "code",
   "execution_count": null,
   "metadata": {},
   "outputs": [],
   "source": []
  },
  {
   "cell_type": "code",
   "execution_count": null,
   "metadata": {},
   "outputs": [],
   "source": []
  },
  {
   "cell_type": "code",
   "execution_count": null,
   "metadata": {},
   "outputs": [],
   "source": []
  },
  {
   "cell_type": "code",
   "execution_count": null,
   "metadata": {},
   "outputs": [],
   "source": []
  },
  {
   "cell_type": "code",
   "execution_count": null,
   "metadata": {},
   "outputs": [],
   "source": []
  },
  {
   "cell_type": "code",
   "execution_count": null,
   "metadata": {},
   "outputs": [],
   "source": []
  },
  {
   "cell_type": "code",
   "execution_count": null,
   "metadata": {},
   "outputs": [],
   "source": []
  },
  {
   "cell_type": "code",
   "execution_count": null,
   "metadata": {},
   "outputs": [],
   "source": []
  },
  {
   "cell_type": "code",
   "execution_count": null,
   "metadata": {},
   "outputs": [],
   "source": []
  },
  {
   "cell_type": "code",
   "execution_count": null,
   "metadata": {},
   "outputs": [],
   "source": []
  }
 ],
 "metadata": {
  "kernelspec": {
   "display_name": "Python 3",
   "language": "python",
   "name": "python3"
  },
  "language_info": {
   "codemirror_mode": {
    "name": "ipython",
    "version": 3
   },
   "file_extension": ".py",
   "mimetype": "text/x-python",
   "name": "python",
   "nbconvert_exporter": "python",
   "pygments_lexer": "ipython3",
   "version": "3.6.1"
  }
 },
 "nbformat": 4,
 "nbformat_minor": 2
}
