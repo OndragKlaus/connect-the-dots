{
 "cells": [
  {
   "cell_type": "code",
   "execution_count": null,
   "metadata": {},
   "outputs": [],
   "source": [
    "from pathlib import Path\n",
    "import sqlite3\n",
    "from collections import namedtuple\n",
    "\n",
    "import numpy as np\n",
    "import sklearn"
   ]
  },
  {
   "cell_type": "code",
   "execution_count": null,
   "metadata": {},
   "outputs": [],
   "source": [
    "Article = namedtuple('Article', ['article_id', 'source_id', 'headline', 'excerpt', 'full_text', 'image_url', 'article_url'])\n",
    "\n",
    "path_data = Path('sql')\n",
    "path_data.mkdir(exist_ok=True)\n",
    "db_file = path_data / 'db.sqlite'\n",
    "with sqlite3.connect(str(db_file)) as con:\n",
    "    cur = con.cursor()\n",
    "    cur.execute('select article_id, source_id, headline, excerpt, full_text, image_url, article_url from article')\n",
    "    articles = cur.fetchall()\n",
    "    articles = [Article(*a) for a in articles]\n",
    "    print(articles[0])"
   ]
  },
  {
   "cell_type": "code",
   "execution_count": null,
   "metadata": {},
   "outputs": [],
   "source": [
    "from sklearn.feature_extraction.text import TfidfVectorizer\n",
    "articles_contents = [a.full_text for a in articles]\n",
    "tfidf = TfidfVectorizer().fit_transform(articles_contents)"
   ]
  },
  {
   "cell_type": "code",
   "execution_count": null,
   "metadata": {},
   "outputs": [],
   "source": [
    "pairwise_similarity = tfidf * tfidf.T"
   ]
  },
  {
   "cell_type": "code",
   "execution_count": null,
   "metadata": {},
   "outputs": [],
   "source": [
    "pairwise_similarity.A[0]"
   ]
  },
  {
   "cell_type": "code",
   "execution_count": null,
   "metadata": {},
   "outputs": [],
   "source": [
    "print(pairwise_similarity.A[0][12])\n",
    "print(pairwise_similarity.A[0][35])\n",
    "print(pairwise_similarity.A[0][36])\n",
    "print(pairwise_similarity.A[12][0])\n",
    "print(pairwise_similarity.A[12][35])\n",
    "print(pairwise_similarity.A[12][36])\n",
    "print(pairwise_similarity.A[35][0])\n",
    "print(pairwise_similarity.A[35][12])\n",
    "print(pairwise_similarity.A[35][36])"
   ]
  },
  {
   "cell_type": "code",
   "execution_count": null,
   "metadata": {},
   "outputs": [],
   "source": [
    "ensure_pairs_exist_sql = \"\"\"\n",
    "INSERT INTO similarities (article_id_1, article_id_2, permid, sklearn)\n",
    "  SELECT\n",
    "    a1.article_id,\n",
    "    a2.article_id,\n",
    "    0,\n",
    "    0\n",
    "  FROM article a1\n",
    "    INNER JOIN article a2\n",
    "      ON a1.article_id > a2.article_id\n",
    "  WHERE NOT EXISTS(\n",
    "      SELECT *\n",
    "      FROM similarities s\n",
    "      WHERE s.article_id_1 == a1.article_id\n",
    "            AND s.article_id_2 == a2.article_id\n",
    "  );\n",
    "\"\"\"\n",
    "\n",
    "def clear_table(cur):\n",
    "    cur.execute('DELETE FROM similarities')\n",
    "\n",
    "def update_db(cur, id_1, id_2, value):\n",
    "    cur.execute('UPDATE similarities SET sklearn = ? WHERE article_id_1 = ? AND article_id_2 = ?', \n",
    "                (value, id_1, id_2))\n",
    "\n",
    "with sqlite3.connect(str(db_file)) as con:\n",
    "    cur = con.cursor()\n",
    "    \n",
    "    clear_table(cur)\n",
    "    con.commit()\n",
    "        \n",
    "    cur.execute(ensure_pairs_exist_sql)\n",
    "    con.commit()\n",
    "    \n",
    "    [update_db(cur, id_1 + 1, id_2 + 1, value) \n",
    "     for (id_1, id_2), value in np.ndenumerate(pairwise_similarity.A)\n",
    "     if id_1 > id_2]\n",
    "    con.commit()"
   ]
  },
  {
   "cell_type": "code",
   "execution_count": null,
   "metadata": {},
   "outputs": [],
   "source": []
  },
  {
   "cell_type": "code",
   "execution_count": null,
   "metadata": {},
   "outputs": [],
   "source": []
  },
  {
   "cell_type": "code",
   "execution_count": null,
   "metadata": {},
   "outputs": [],
   "source": []
  }
 ],
 "metadata": {
  "kernelspec": {
   "display_name": "Python 3",
   "language": "python",
   "name": "python3"
  },
  "language_info": {
   "codemirror_mode": {
    "name": "ipython",
    "version": 3
   },
   "file_extension": ".py",
   "mimetype": "text/x-python",
   "name": "python",
   "nbconvert_exporter": "python",
   "pygments_lexer": "ipython3",
   "version": "3.6.1"
  }
 },
 "nbformat": 4,
 "nbformat_minor": 2
}
