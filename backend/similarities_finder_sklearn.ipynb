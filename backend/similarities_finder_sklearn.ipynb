{
 "cells": [
  {
   "cell_type": "code",
   "execution_count": 8,
   "metadata": {},
   "outputs": [],
   "source": [
    "from pathlib import Path\n",
    "import sqlite3\n",
    "from collections import namedtuple\n",
    "\n",
    "import numpy as np\n",
    "import sklearn"
   ]
  },
  {
   "cell_type": "code",
   "execution_count": 9,
   "metadata": {},
   "outputs": [
    {
     "name": "stdout",
     "output_type": "stream",
     "text": [
      "Article(article_id=1, source_id=1, headline='Boris throws down the gauntlet to May over Brexit', excerpt=\"Downing Street is united behind Boris Johnson's pledge to give £350 million a week to the NHS after Brexit amid speculation he is launching a leadership bid, sources claim.\", full_text='Downing Street is united behind Boris Johnson\\'s pledge to give £350 million a week to the NHS amid speculation he is launching a leadership bid, sources claimed this morning.\\nNumber 10 reportedly confirmed the government\\'s knowledge of the foreign secretary\\'s ambitions after he published a 4,000-word personal manifesto for Brexit ahead of Theresa May\\'s speech in Florence next week.\\nThe government source said: \\'Boris\\' views are well known - as you\\'ll see in the PM\\'s speech next week the government is united.\\'\\xa0\\nMr Johnson threw down the gauntlet to the prime minister\\xa0last night warning her against giving in to Remainers in the Cabinet.\\nIn an extraordinary intervention, that will reignite speculation about his leadership ambitions, the Foreign Secretary published an essay setting out his personal manifesto for\\xa0Brexit.\\nThe move comes just days before Mrs May is due to make a pivotal speech on the issue and will be seen as an attempt to box her in.\\nToday Politics Home editor Kevin Schofield Tweeted: \\'No 10 source on BoJo intervention: \"Boris\\' views are well known – as you\\'ll see in the PM\\'s speech next week the government is united.\"\\'\\xa0\\nIt was followed by the foreign secretary saying he is \\'looking forward\\' to the prime minister\\'s speech and that the party is \\'behind Theresa for a glorious Brexit\\', according to Sky News.\\xa0\\nMr Johnson, who is angry at claims he lied during the referendum campaign, says the UK will claw back control of £350 million a week after leaving the EU, which could be spent on the NHS.\\nAnd, in an ominous move, he flatly rejects calls for Britain to pay billions for access to the single market during any transition period after Brexit – an idea being considered by Mrs May for inclusion in her speech next week.\\nSome ministers, including the Chancellor Philip Hammond, believe the payments could break the deadlock in the Brexit negotiations and kickstart talks on a new trade deal.\\nBut Mr Johnson writes: ‘We would not expect to pay for access to their markets any more than they would expect to pay for access to our.’\\nAnd he says that ongoing membership of the single market and customs union would make a ‘complete mockery’ of the referendum.\\nDowning Street had banned Mr Johnson from making a speech on Brexit until after Mrs May had delivered hers.\\nHis essay, which was published in the Daily Telegraph, was not cleared with No 10 and was sent to the PM’s office only shortly before it was published.\\nIt comes amid mounting concern in Downing Street that Mr Johnson could resign if Mrs May tries to go soft on Brexit.\\nThe Foreign Secretary is said to be wounded by claims that he lied during last year’s referendum campaign and frustrated at continued attempts to sideline him.\\nHe is also said to have been angered by briefings this month suggesting he would be demoted in the next Cabinet reshuffle.\\nBut a\\xa0senior Tory MP questioned the foreign secretary\\'s intervention.\\nThey told MailOnline Mr Johnson would face the wrath of the powerful 1922 committee if he tried to destabilise Mrs May.\\n\\'He should be aware the \\'22 will support any moves the PM makes to enforce discipline,\\' they told MailOnline.\\n\\'I can\\'t work out what he is trying to achieve with this. There is no big appetite for Boris on our benches.\\n\\'He hasn\\'t done much with the role of Foreign Secretary. He is still acting like a journalist rather than a senior diplomat.\\'\\nIn July Mr Johnson was forced to deny rumours sweeping Westminster that he was on the verge of quitting.\\nOne Tory source said this week that he was ‘so low’ he had been put on ‘resignation watch’ by No 10.\\nThe resignation of Mr Johnson would destabilise Mrs May’s fragile government and set off a chain of events that could force her from office.\\nOne friend insisted he was not considering quitting, but hinted at tensions with No 10.\\n‘I think he is clear that if he’s pushed he will push back on policy and on (cabinet) jobs. But it is all about staying in government, not walking away,’ the friend said.\\nMr Johnson uses his article to set out an upbeat vision for a ‘glorious’ post-Brexit future as a low-tax, low regulation economy freed from the shackles of Brussels.\\nHe insists that Britain can be ‘the greatest country on earth’ and rounds on so-called Remoaners ‘who think we are going to bottle it’.\\nHe also accuses Labour of ‘chickening out’ of Brexit after voting against the EU Withdrawal Bill and backing single market membership in the short term.\\nOn his controversial £350 million a week claim, he writes: ‘Once we have settled our accounts, we will take back control of roughly £350m per week.\\n“It would be a fine thing, as many of us have pointed out, if a lot of that money went on the NHS, provided we use that cash injection to modernise and make the most of new technology.”\\nHe says that opponents, including the ‘the government, the BBC, Barack Obama, the Archbishop of Canterbury, the CBI’ tried to prevent Brexit and are now ‘woefully underestimating this country’.\\nMr Johnson calls for Britain to ‘keep environmental and social protections that are fair and wise’, but saysEU red tape costing anything between 4 and 7 per cent of GDP should be ditched.\\nMr Johnson, who has clashed repeatedly with the Chancellor, says Brexit should be used as an opportunity ‘reform our tax system’.\\n‘Outside the EU there are obvious opportunities… in the setting of indirect taxation,’ he writes. ‘At the stroke of a pen, the Chancellor will be able to cut VAT on tampons; often demanded by parliament but – absurdly – legally impossible to deliver.’\\nDowning Street last night attempted to play down the row.\\nA source said: ‘Boris’s views on Brexit are well known. As you’ll see in the PM’s speech next week, the Governmenbt is united in our determination to make the most of the opportiunities for a successful future.\\xa0', image_url='http://i.dailymail.co.uk/i/pix/2017/09/15/23/445410E600000578-0-image-a-6_1505514465535.jpg', article_url='http://www.dailymail.co.uk/news/article-4889654/Boris-throws-gauntlet-Brexit.html')\n"
     ]
    }
   ],
   "source": [
    "Article = namedtuple('Article', ['article_id', 'source_id', 'headline', 'excerpt', 'full_text', 'image_url', 'article_url'])\n",
    "\n",
    "path_data = Path('sql')\n",
    "path_data.mkdir(exist_ok=True)\n",
    "db_file = path_data / 'db.sqlite'\n",
    "with sqlite3.connect(str(db_file)) as con:\n",
    "    cur = con.cursor()\n",
    "    cur.execute('select article_id, source_id, headline, excerpt, full_text, image_url, article_url from article')\n",
    "    articles = cur.fetchall()\n",
    "    articles = [Article(*a) for a in articles]\n",
    "    print(articles[0])"
   ]
  },
  {
   "cell_type": "code",
   "execution_count": 10,
   "metadata": {},
   "outputs": [],
   "source": [
    "from sklearn.feature_extraction.text import TfidfVectorizer\n",
    "articles_contents = [a.full_text for a in articles]\n",
    "tfidf = TfidfVectorizer().fit_transform(articles_contents)"
   ]
  },
  {
   "cell_type": "code",
   "execution_count": 11,
   "metadata": {},
   "outputs": [],
   "source": [
    "pairwise_similarity = tfidf * tfidf.T"
   ]
  },
  {
   "cell_type": "code",
   "execution_count": 12,
   "metadata": {},
   "outputs": [
    {
     "data": {
      "text/plain": [
       "array([ 1.        ,  0.24714333,  0.43496607,  0.49165901,  0.22446741,\n",
       "        0.24240929,  0.33550051,  0.3942955 ,  0.25619342,  0.3483313 ,\n",
       "        0.37373201,  0.38626808,  0.72640857,  0.27422131,  0.26714057,\n",
       "        0.28203173,  0.28171059,  0.18075044,  0.24513223,  0.28701307,\n",
       "        0.24636951,  0.22298623,  0.2583599 ,  0.34339577,  0.2392699 ,\n",
       "        0.23327079,  0.19338545,  0.2130068 ,  0.23590437,  0.22370076,\n",
       "        0.3734685 ,  0.3624973 ,  0.35316701,  0.40121084,  0.24204002,\n",
       "        0.6306044 ,  0.33130163,  0.41899866,  0.24886893,  0.29204534,\n",
       "        0.08863572,  0.28456011,  0.22999557,  0.3031019 ,  0.23376341,\n",
       "        0.20554271,  0.24974698,  0.23716152,  0.2934775 ,  0.3496312 ,\n",
       "        0.39105806,  0.35136484,  0.24553672,  0.        ,  0.45512535,\n",
       "        0.21852859,  0.31743217,  0.32268081,  0.16217817,  0.31255803,\n",
       "        0.24813002,  0.21339913,  0.25834994,  0.23073153,  0.31359992,\n",
       "        0.11366918,  0.31448467,  0.35293457,  0.32606735,  0.34240861,\n",
       "        0.25704019,  0.26994918,  0.36474678,  0.19951089,  0.39273564,\n",
       "        0.34792604,  0.22468928,  0.33628453,  0.27772928,  0.21289544,\n",
       "        0.20561172,  0.18058938,  0.28054765,  0.20222448,  0.21423958,\n",
       "        0.50953865,  0.11242805,  0.2377528 ])"
      ]
     },
     "execution_count": 12,
     "metadata": {},
     "output_type": "execute_result"
    }
   ],
   "source": [
    "pairwise_similarity.A[0]"
   ]
  },
  {
   "cell_type": "code",
   "execution_count": 13,
   "metadata": {},
   "outputs": [
    {
     "name": "stdout",
     "output_type": "stream",
     "text": [
      "0.726408570948\n",
      "0.630604403418\n",
      "0.331301634702\n",
      "0.726408570948\n",
      "0.737309334754\n",
      "0.374329858313\n",
      "0.630604403418\n",
      "0.737309334754\n",
      "0.336901735621\n"
     ]
    }
   ],
   "source": [
    "print(pairwise_similarity.A[0][12])\n",
    "print(pairwise_similarity.A[0][35])\n",
    "print(pairwise_similarity.A[0][36])\n",
    "print(pairwise_similarity.A[12][0])\n",
    "print(pairwise_similarity.A[12][35])\n",
    "print(pairwise_similarity.A[12][36])\n",
    "print(pairwise_similarity.A[35][0])\n",
    "print(pairwise_similarity.A[35][12])\n",
    "print(pairwise_similarity.A[35][36])"
   ]
  },
  {
   "cell_type": "code",
   "execution_count": 14,
   "metadata": {},
   "outputs": [],
   "source": [
    "ensure_pairs_exist_sql = \"\"\"\n",
    "INSERT INTO similarities (article_id_1, article_id_2, permid, sklearn)\n",
    "  SELECT\n",
    "    a1.article_id,\n",
    "    a2.article_id,\n",
    "    0,\n",
    "    0\n",
    "  FROM article a1\n",
    "    INNER JOIN article a2\n",
    "      ON a1.article_id > a2.article_id\n",
    "  WHERE NOT EXISTS(\n",
    "      SELECT *\n",
    "      FROM similarities s\n",
    "      WHERE s.article_id_1 == a1.article_id\n",
    "            AND s.article_id_2 == a2.article_id\n",
    "  );\n",
    "\"\"\"\n",
    "\n",
    "def clear_table(cur):\n",
    "    cur.execute('DELETE FROM similarities')\n",
    "\n",
    "def update_db(cur, id_1, id_2, value):\n",
    "    cur.execute('UPDATE similarities SET sklearn = ? WHERE article_id_1 = ? AND article_id_2 = ?', \n",
    "                (value, id_1, id_2))\n",
    "\n",
    "with sqlite3.connect(str(db_file)) as con:\n",
    "    cur = con.cursor()\n",
    "    \n",
    "    clear_table(cur)\n",
    "    con.commit()\n",
    "        \n",
    "    cur.execute(ensure_pairs_exist_sql)\n",
    "    con.commit()\n",
    "    \n",
    "    [update_db(cur, id_1 + 1, id_2 + 1, value) \n",
    "     for (id_1, id_2), value in np.ndenumerate(pairwise_similarity.A)\n",
    "     if id_1 > id_2]\n",
    "    con.commit()"
   ]
  },
  {
   "cell_type": "code",
   "execution_count": null,
   "metadata": {},
   "outputs": [],
   "source": []
  },
  {
   "cell_type": "code",
   "execution_count": null,
   "metadata": {},
   "outputs": [],
   "source": []
  },
  {
   "cell_type": "code",
   "execution_count": null,
   "metadata": {},
   "outputs": [],
   "source": []
  }
 ],
 "metadata": {
  "kernelspec": {
   "display_name": "Python 3",
   "language": "python",
   "name": "python3"
  },
  "language_info": {
   "codemirror_mode": {
    "name": "ipython",
    "version": 3
   },
   "file_extension": ".py",
   "mimetype": "text/x-python",
   "name": "python",
   "nbconvert_exporter": "python",
   "pygments_lexer": "ipython3",
   "version": "3.6.1"
  }
 },
 "nbformat": 4,
 "nbformat_minor": 2
}
