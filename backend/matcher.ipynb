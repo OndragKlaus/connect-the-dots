{
 "cells": [
  {
   "cell_type": "code",
   "execution_count": null,
   "metadata": {},
   "outputs": [],
   "source": [
    "from pathlib import Path\n",
    "import sqlite3\n",
    "\n",
    "import pandas as pd\n",
    "from pandas import Int64Index"
   ]
  },
  {
   "cell_type": "code",
   "execution_count": null,
   "metadata": {},
   "outputs": [],
   "source": [
    "path_data = Path('sql')\n",
    "path_data.mkdir(exist_ok=True)\n",
    "db_file = path_data / 'db.sqlite'\n",
    "with sqlite3.connect(str(db_file)) as con:\n",
    "    df = pd.read_sql(con=con, sql='select s.*, a1.source_id as source_id_1, a2.source_id as source_id_2 from similarities s inner join article a1 on s.article_id_1 = a1.article_id inner join article a2 on s.article_id_2 = a2.article_id')\n",
    "df.head(5)"
   ]
  },
  {
   "cell_type": "code",
   "execution_count": null,
   "metadata": {
    "scrolled": false
   },
   "outputs": [],
   "source": [
    "def avg(row):\n",
    "    return (row['permid'] * 2 + row['sklearn_headline'] * 2 + row['sklearn_text']) / 5\n",
    "\n",
    "def prepare_df(df):\n",
    "    df['sklearn_avg'] = df.apply(avg, axis=1)\n",
    "    df = df[df['sklearn_avg'] > df['sklearn_avg'].mean()]\n",
    "    df = df.sort_values('sklearn_avg', ascending=False)\n",
    "    df = df[df.source_id_1 != df.source_id_2]\n",
    "    df = df.reset_index(drop=True)\n",
    "    return df\n",
    "\n",
    "def get_cliques(df, threshold):\n",
    "    cliques = []\n",
    "    similarities = []\n",
    "    while len(cliques) < 40:\n",
    "        reuters = df[(df.source_id_1 == 3) | (df.source_id_2 == 3)]\n",
    "        if len(reuters) == 0:\n",
    "            return cliques\n",
    "        c = [None, None, None, None, None, None]\n",
    "        d = [None, None, 1, None, None, None]\n",
    "\n",
    "        first_row = reuters.iloc[0]\n",
    "        df = df.drop(df.head(1).index)\n",
    "\n",
    "#         print(first_row.sklearn_avg)\n",
    "        c[int(first_row.source_id_1) - 1] = int(first_row.article_id_1)\n",
    "        c[int(first_row.source_id_2) - 1] = int(first_row.article_id_2)\n",
    "        d[int(first_row.source_id_1) - 1] = first_row['sklearn_avg']\n",
    "        d[int(first_row.source_id_2) - 1] = first_row['sklearn_avg']\n",
    "        index = 0\n",
    "\n",
    "        while (c[0] is None or c[1] is None or c[2] is None or c[3] is None) and len(df) > (index + 1):\n",
    "            df = df.reset_index(drop=True)\n",
    "            new_row = df.iloc[index]\n",
    "#             print(new_row)\n",
    "            if new_row['sklearn_avg'] < threshold:\n",
    "                print(len(cliques))\n",
    "                print(cliques, similarities)\n",
    "                return cliques, similarities\n",
    "            \n",
    "            if c[int(new_row.source_id_1) - 1] is None and c[int(new_row.source_id_2) - 1] is not None:\n",
    "                c[int(new_row.source_id_1) - 1] = int(new_row.article_id_1)\n",
    "                d[int(new_row.source_id_1) - 1] = new_row['sklearn_avg']\n",
    "                df = df.drop(Int64Index([index+1], dtype='int64'))\n",
    "            elif c[int(new_row.source_id_1) - 1] is not None and c[int(new_row.source_id_2) - 1] is None:\n",
    "                c[int(new_row.source_id_2) - 1] = int(new_row.article_id_2)\n",
    "                d[int(new_row.source_id_2) - 1] = new_row['sklearn_avg']\n",
    "                df = df.drop(Int64Index([index+1], dtype='int64'))\n",
    "            else:\n",
    "                index += 1\n",
    "        for i in range(4):\n",
    "            df = df[(df.article_id_1 != c[i]) & (df.article_id_2 != c[i])]\n",
    "        cliques.append(c)\n",
    "        similarities.append(d)\n",
    "\n",
    "    print(len(cliques))\n",
    "    print(cliques, similarities)\n",
    "    return cliques, similarities\n",
    "\n",
    "def write_db(cliques, similarities):\n",
    "    with sqlite3.connect(str(db_file)) as con:\n",
    "        cur = con.cursor()\n",
    "        cur.execute('DELETE FROM matching')\n",
    "        [cur.execute(f'INSERT INTO matching (article_id, group_id, similarity) VALUES (?, ?, ?)', (a1, i, a2))\n",
    "         for i, (c, d) in enumerate(zip(cliques, similarities))\n",
    "         for a1, a2 in zip(c, d)\n",
    "         if a1 is not None]\n",
    "        con.commit()\n",
    "        \n",
    "def do_it(df, threshold):\n",
    "    df = prepare_df(df)\n",
    "    cliques, similarities = get_cliques(df, threshold)\n",
    "    write_db(cliques, similarities)\n",
    "    print('Done')\n",
    "\n",
    "\n",
    "do_it(df, 0.1)"
   ]
  },
  {
   "cell_type": "code",
   "execution_count": null,
   "metadata": {},
   "outputs": [],
   "source": []
  },
  {
   "cell_type": "code",
   "execution_count": null,
   "metadata": {},
   "outputs": [],
   "source": []
  },
  {
   "cell_type": "code",
   "execution_count": null,
   "metadata": {},
   "outputs": [],
   "source": []
  }
 ],
 "metadata": {
  "kernelspec": {
   "display_name": "Python 3",
   "language": "python",
   "name": "python3"
  },
  "language_info": {
   "codemirror_mode": {
    "name": "ipython",
    "version": 3
   },
   "file_extension": ".py",
   "mimetype": "text/x-python",
   "name": "python",
   "nbconvert_exporter": "python",
   "pygments_lexer": "ipython3",
   "version": "3.6.1"
  }
 },
 "nbformat": 4,
 "nbformat_minor": 2
}
