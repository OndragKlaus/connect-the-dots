{
 "cells": [
  {
   "cell_type": "code",
   "execution_count": null,
   "metadata": {},
   "outputs": [],
   "source": [
    "from pathlib import Path\n",
    "import sqlite3\n",
    "from collections import namedtuple\n",
    "\n",
    "import numpy as np\n",
    "import sklearn\n",
    "import pandas as pd\n",
    "from pandas import Int64Index"
   ]
  },
  {
   "cell_type": "code",
   "execution_count": null,
   "metadata": {},
   "outputs": [],
   "source": [
    "path_data = Path('sql')\n",
    "path_data.mkdir(exist_ok=True)\n",
    "db_file = path_data / 'db.sqlite'\n",
    "with sqlite3.connect(str(db_file)) as con:\n",
    "    df = pd.read_sql(con=con, sql='select s.article_id_1, s.article_id_2, s.permid, s.sklearn, a1.source_id as source_id_1, a2.source_id as source_id_2 from similarities s inner join article a1 on s.article_id_1 = a1.article_id inner join article a2 on s.article_id_2 = a2.article_id')\n",
    "df.head(5)"
   ]
  },
  {
   "cell_type": "code",
   "execution_count": null,
   "metadata": {},
   "outputs": [],
   "source": [
    "threshold = 0.5\n",
    "df = df[df.sklearn > threshold]\n",
    "df = df.sort_values('sklearn', ascending=False)\n",
    "df = df[df.source_id_1 != df.source_id_2]\n",
    "df = df.reset_index(drop=True)\n",
    "# df.article_id_1 = df.article_id_1.astype(int)\n",
    "# df.article_id_2 = df.article_id_2.astype(int)\n",
    "# df.source_id_1 = df.source_id_1.astype(int)\n",
    "# df.source_id_2 = df.source_id_2.astype(int)\n",
    "df.head(5)"
   ]
  },
  {
   "cell_type": "code",
   "execution_count": null,
   "metadata": {},
   "outputs": [],
   "source": []
  },
  {
   "cell_type": "code",
   "execution_count": null,
   "metadata": {},
   "outputs": [],
   "source": [
    "cliques = []\n",
    "while len(cliques) < 2 and len(df) >= 4:\n",
    "    c = [None, None, None, None]\n",
    "\n",
    "    first_row = df.iloc[0]\n",
    "    df = df.drop(df.head(1).index)\n",
    "\n",
    "    c[int(first_row.source_id_1) - 1] = int(first_row.article_id_1)\n",
    "    c[int(first_row.source_id_2) - 1] = int(first_row.article_id_2)\n",
    "    c\n",
    "    index = 0\n",
    "\n",
    "    while c[0] is None or c[1] is None or c[2] is None or c[3] is None and len(df) > index:\n",
    "        df = df.reset_index(drop=True)\n",
    "#         print(index)\n",
    "        new_row = df.iloc[index]\n",
    "        if c[int(new_row.source_id_1) - 1] is None and c[int(new_row.source_id_2) - 1] is not None:\n",
    "            c[int(new_row.source_id_1) - 1] = int(new_row.article_id_1)\n",
    "            df = df.drop(Int64Index([index+1], dtype='int64'))\n",
    "        elif c[int(new_row.source_id_1) - 1] is not None and c[int(new_row.source_id_2) - 1] is None:\n",
    "            c[int(new_row.source_id_2) - 1] = int(new_row.article_id_2)\n",
    "            df = df.drop(Int64Index([index+1], dtype='int64'))\n",
    "        else:\n",
    "            index += 1\n",
    "    for i in range(4):\n",
    "        df = df[(df.article_id_1 != c[i]) & (df.article_id_2 != c[i])]\n",
    "    cliques.append(c)\n",
    "print(cliques)\n",
    "    "
   ]
  },
  {
   "cell_type": "code",
   "execution_count": null,
   "metadata": {},
   "outputs": [],
   "source": [
    "with sqlite3.connect(str(db_file)) as con:\n",
    "    cur = con.cursor()\n",
    "    cur.execute('DELETE FROM matching')\n",
    "    [cur.execute('INSERT INTO matching (article_id, group_id) VALUES (?, ?)', (a, i))\n",
    "     for i, c in enumerate(cliques)\n",
    "     for a in c]\n",
    "    con.commit()"
   ]
  },
  {
   "cell_type": "code",
   "execution_count": null,
   "metadata": {},
   "outputs": [],
   "source": []
  },
  {
   "cell_type": "code",
   "execution_count": null,
   "metadata": {},
   "outputs": [],
   "source": []
  },
  {
   "cell_type": "code",
   "execution_count": null,
   "metadata": {},
   "outputs": [],
   "source": []
  },
  {
   "cell_type": "code",
   "execution_count": null,
   "metadata": {},
   "outputs": [],
   "source": []
  },
  {
   "cell_type": "code",
   "execution_count": null,
   "metadata": {},
   "outputs": [],
   "source": []
  },
  {
   "cell_type": "code",
   "execution_count": null,
   "metadata": {},
   "outputs": [],
   "source": []
  },
  {
   "cell_type": "code",
   "execution_count": null,
   "metadata": {},
   "outputs": [],
   "source": []
  },
  {
   "cell_type": "code",
   "execution_count": null,
   "metadata": {},
   "outputs": [],
   "source": []
  }
 ],
 "metadata": {
  "kernelspec": {
   "display_name": "Python 3",
   "language": "python",
   "name": "python3"
  },
  "language_info": {
   "codemirror_mode": {
    "name": "ipython",
    "version": 3
   },
   "file_extension": ".py",
   "mimetype": "text/x-python",
   "name": "python",
   "nbconvert_exporter": "python",
   "pygments_lexer": "ipython3",
   "version": "3.6.1"
  }
 },
 "nbformat": 4,
 "nbformat_minor": 2
}
