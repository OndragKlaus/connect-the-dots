{
 "cells": [
  {
   "cell_type": "code",
   "execution_count": null,
   "metadata": {},
   "outputs": [],
   "source": [
    "from pathlib import Path\n",
    "import sqlite3\n",
    "from collections import namedtuple\n",
    "import requests\n",
    "import json\n",
    "\n",
    "import numpy as np\n",
    "\n",
    "from secrets.config import config"
   ]
  },
  {
   "cell_type": "code",
   "execution_count": null,
   "metadata": {},
   "outputs": [],
   "source": [
    "Article = namedtuple('Article', ['article_id', 'source_id', 'headline', 'excerpt', 'full_text', 'image_url', 'article_url'])\n",
    "\n",
    "path_data = Path('sql')\n",
    "path_data.mkdir(exist_ok=True)\n",
    "db_file = path_data / 'db.sqlite'\n",
    "with sqlite3.connect(str(db_file)) as con:\n",
    "    cur = con.cursor()\n",
    "    cur.execute('select article_id, source_id, headline, excerpt, full_text, image_url, article_url from article')\n",
    "    articles = cur.fetchall()\n",
    "    articles = [Article(*a) for a in articles]\n",
    "articles = [a for a in articles if len(a.full_text) > 1]\n",
    "print(len(articles))\n",
    "print(articles[0].headline)"
   ]
  },
  {
   "cell_type": "code",
   "execution_count": null,
   "metadata": {},
   "outputs": [],
   "source": []
  },
  {
   "cell_type": "code",
   "execution_count": null,
   "metadata": {
    "scrolled": true
   },
   "outputs": [],
   "source": [
    "def get_response(url: str, token, text) -> str:\n",
    "    headers = {'X-AG-Access-Token' : token, 'Content-Type' :  'text/raw', 'outputformat' : 'application/json'}\n",
    "    try:\n",
    "        response = requests.post(url, data=text, headers=headers)\n",
    "        if response.ok:\n",
    "            return response\n",
    "        else:\n",
    "            raise Exception('invalid response code', response)\n",
    "    except Exception as e:\n",
    "        raise e\n",
    "\n",
    "token = config['tagger_token']\n",
    "\n",
    "def get_dict(token, a):\n",
    "    response = get_response('https://api.thomsonreuters.com/permid/calais', token, \n",
    "                            a)\n",
    "    content = response.text.encode('utf-8')\n",
    "    return json.loads(content)\n",
    "\n",
    "tags = [get_dict(token, a.full_text.encode('utf-8')) \n",
    "        for a in articles]\n",
    "tags[0]"
   ]
  },
  {
   "cell_type": "code",
   "execution_count": null,
   "metadata": {
    "scrolled": false
   },
   "outputs": [],
   "source": [
    "def get_relevant(tag):\n",
    "    keys = tag.keys()\n",
    "    keys = [k for k in keys if k.startswith('http')]\n",
    "\n",
    "    filtered = [tag[k] \n",
    "                for k in keys\n",
    "                if 'relevance' in tag[k] and 'name' in tag[k]]\n",
    "    return [(f['name'], f['relevance']) for f in filtered]\n",
    "\n",
    "cleaned = [get_relevant(t) for t in tags]\n",
    "cleaned[0]"
   ]
  },
  {
   "cell_type": "code",
   "execution_count": null,
   "metadata": {
    "scrolled": false
   },
   "outputs": [],
   "source": []
  },
  {
   "cell_type": "code",
   "execution_count": null,
   "metadata": {},
   "outputs": [],
   "source": [
    "cleaned = [(a.article_id, t) for a, t in zip(articles, cleaned)]\n",
    "cleaned[0]"
   ]
  },
  {
   "cell_type": "code",
   "execution_count": null,
   "metadata": {},
   "outputs": [],
   "source": [
    "cleaned = [(a, [x for x in t if x[1] > 0.5]) \n",
    "           for a, t in cleaned]\n",
    "cleaned = [(a, t) for a, t in cleaned if len(t) > 0]\n",
    "cleaned[0]"
   ]
  },
  {
   "cell_type": "code",
   "execution_count": null,
   "metadata": {
    "scrolled": true
   },
   "outputs": [],
   "source": [
    "# def calc_similarity(d1, d2):\n",
    "#     k1, v1 = list(zip(*d1))\n",
    "#     k2, v2 = list(zip(*d2))\n",
    "    \n",
    "#     max_sim = len(set(k1 + k2))\n",
    "#     shared_keys = set(k1).intersection(k2)\n",
    "#     if len(shared_keys) == 0:\n",
    "#         return 0\n",
    "\n",
    "#     x = [(v1[k1.index(sk)] - v2[k2.index(sk)]) for sk in shared_keys]\n",
    "#     x = np.abs(x)\n",
    "#     x = [1 - y for y in x]\n",
    "#     x = sum(x)\n",
    "#     return x / max_sim\n",
    "\n",
    "# # calc_similarity(cleaned[0][1], cleaned[1][1])\n",
    "\n",
    "# sims = [(a1[0], a2[0], calc_similarity(a1[1], a2[1]))\n",
    "#         for a1 in cleaned\n",
    "#         for a2 in cleaned\n",
    "#         if a1[0] > a2[0]]\n",
    "# sims[:20]"
   ]
  },
  {
   "cell_type": "code",
   "execution_count": null,
   "metadata": {},
   "outputs": [],
   "source": [
    "def calc_similarity(d1, d2):\n",
    "    k1, v1 = list(zip(*d1))\n",
    "    k2, v2 = list(zip(*d2))\n",
    "    \n",
    "    max_sim = len(set(k1 + k2))\n",
    "    shared_keys = set(k1).intersection(k2)\n",
    "    if len(shared_keys) == 0:\n",
    "        return 0\n",
    "\n",
    "    x = [(v1[k1.index(sk)] - v2[k2.index(sk)]) for sk in shared_keys]\n",
    "    x = np.abs(x)\n",
    "    x = [1 - y for y in x]\n",
    "    x = sum(x)\n",
    "    return x / max_sim\n",
    "\n",
    "# calc_similarity(cleaned[0][1], cleaned[1][1])\n",
    "\n",
    "sims = [(a1[0], a2[0], calc_similarity(a1[1], a2[1]))\n",
    "        for a1 in cleaned\n",
    "        for a2 in cleaned\n",
    "        if a1[0] > a2[0]]\n",
    "sims[:20]"
   ]
  },
  {
   "cell_type": "code",
   "execution_count": null,
   "metadata": {},
   "outputs": [],
   "source": [
    "def clear_table(cur):\n",
    "    cur.execute(f'UPDATE similarities SET permid = 0')\n",
    "\n",
    "def update_db(cur, id_1, id_2, value):\n",
    "    cur.execute(f'UPDATE similarities SET permid = ? WHERE article_id_1 = ? AND article_id_2 = ?', \n",
    "                (value, id_1, id_2))\n",
    "\n",
    "with sqlite3.connect(str(db_file)) as con:\n",
    "    cur = con.cursor()\n",
    "\n",
    "    clear_table(cur)\n",
    "    con.commit()\n",
    "\n",
    "    [update_db(cur, id_1, id_2, value) \n",
    "     for id_1, id_2, value in sims\n",
    "     if id_1 > id_2]\n",
    "    con.commit()"
   ]
  },
  {
   "cell_type": "code",
   "execution_count": null,
   "metadata": {},
   "outputs": [],
   "source": []
  },
  {
   "cell_type": "code",
   "execution_count": null,
   "metadata": {},
   "outputs": [],
   "source": []
  },
  {
   "cell_type": "code",
   "execution_count": null,
   "metadata": {},
   "outputs": [],
   "source": []
  },
  {
   "cell_type": "code",
   "execution_count": null,
   "metadata": {},
   "outputs": [],
   "source": []
  },
  {
   "cell_type": "code",
   "execution_count": null,
   "metadata": {},
   "outputs": [],
   "source": []
  },
  {
   "cell_type": "code",
   "execution_count": null,
   "metadata": {},
   "outputs": [],
   "source": []
  }
 ],
 "metadata": {
  "kernelspec": {
   "display_name": "Python 3",
   "language": "python",
   "name": "python3"
  },
  "language_info": {
   "codemirror_mode": {
    "name": "ipython",
    "version": 3
   },
   "file_extension": ".py",
   "mimetype": "text/x-python",
   "name": "python",
   "nbconvert_exporter": "python",
   "pygments_lexer": "ipython3",
   "version": "3.6.1"
  }
 },
 "nbformat": 4,
 "nbformat_minor": 2
}
